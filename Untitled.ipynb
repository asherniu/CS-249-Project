{
 "cells": [
  {
   "cell_type": "code",
   "execution_count": 209,
   "metadata": {},
   "outputs": [],
   "source": [
    "# Library imports\n",
    "import numpy as np\n",
    "import pandas as pd\n",
    "import csv"
   ]
  },
  {
   "cell_type": "code",
   "execution_count": 253,
   "metadata": {},
   "outputs": [],
   "source": [
    "# Read data from data/four_area\n",
    "author = pd.read_csv(\"data/four_area/author.txt\", sep = \"\\t\", names=[\"ID\", \"Author name\"],encoding='latin1')\n",
    "conf = pd.read_csv(\"data/four_area/conf.txt\", sep = \"\\t\", names=[\"ID\", \"Conference name\"])\n",
    "paper = pd.read_csv(\"data/four_area/paper.txt\", sep = \"\\t\", names=[\"ID\", \"Paper title\"])\n",
    "term = pd.read_csv(\"data/four_area/term.txt\", sep = \"\\t\", names=[\"ID\", \"Term\"])\n",
    "paper_author = pd.read_csv(\"data/four_area/paper_author.txt\", sep = \"\\t\", names=[\"paperID\", \"authorID\"])\n",
    "paper_conf = pd.read_csv(\"data/four_area/paper_conf.txt\", sep = \"\\t\", names=[\"paperID\", \"confID\"])\n",
    "paper_term = pd.read_csv(\"data/four_area/paper_term.txt\", sep = \"\\t\", names=[\"paperID\", \"termID\"])"
   ]
  },
  {
   "cell_type": "markdown",
   "metadata": {},
   "source": [
    "### ID in DBLP_four_area are differents from four_area. four_area's ID are rehashed.\n",
    "### Non utf-8 Names in DBLP_four_area are corrupted due to transformation issues. This is done by prof and irreversible. \n",
    "### Label are defined as follows\n",
    "* Database->1\n",
    "* Data Mining->2\n",
    "* Machine Learning->3\n",
    "* Information Retrieval->4"
   ]
  },
  {
   "cell_type": "code",
   "execution_count": 254,
   "metadata": {},
   "outputs": [],
   "source": [
    "# Read data from data/DBLP_four_area\n",
    "author_dict = pd.read_csv(\"data/DBLP_four_area/cleaned_author_dict.txt\", sep = \"\\t\", names=[\"ID\", \"Author name\"], encoding='latin1')\n",
    "conf_dict = pd.read_csv(\"data/DBLP_four_area/conf_dict.txt\", sep = \"\\t\", names=[\"ID\", \"Conference name\"])\n",
    "term_dict = pd.read_csv(\"data/DBLP_four_area/term_dict.txt\", sep = \"\\t\", names=[\"ID\", \"Term\"])\n",
    "author_label = pd.read_csv(\"data/DBLP_four_area/author_label.txt\", sep = \"\\t\", names=[\"authorID\", \"Label\"])\n",
    "conf_label = pd.read_csv(\"data/DBLP_four_area/conf_label.txt\", sep = \"\\t\", names=[\"confID\", \"Conference name\", \"Label\"])"
   ]
  },
  {
   "cell_type": "code",
   "execution_count": 255,
   "metadata": {},
   "outputs": [],
   "source": [
    "df = author_dict"
   ]
  },
  {
   "cell_type": "code",
   "execution_count": 256,
   "metadata": {},
   "outputs": [],
   "source": [
    "df2 = author"
   ]
  },
  {
   "cell_type": "code",
   "execution_count": 264,
   "metadata": {},
   "outputs": [],
   "source": [
    "df3 = pd.merge(df, df2, on='Author name', how='inner')"
   ]
  },
  {
   "cell_type": "code",
   "execution_count": 272,
   "metadata": {
    "scrolled": false
   },
   "outputs": [
    {
     "data": {
      "text/plain": [
       "False"
      ]
     },
     "execution_count": 272,
     "metadata": {},
     "output_type": "execute_result"
    }
   ],
   "source": [
    "df3['ID_x'].isnull().values.any()\n",
    "df3['ID_y'].isnull().values.any()"
   ]
  },
  {
   "cell_type": "code",
   "execution_count": 271,
   "metadata": {},
   "outputs": [
    {
     "data": {
      "text/html": [
       "<div>\n",
       "<style scoped>\n",
       "    .dataframe tbody tr th:only-of-type {\n",
       "        vertical-align: middle;\n",
       "    }\n",
       "\n",
       "    .dataframe tbody tr th {\n",
       "        vertical-align: top;\n",
       "    }\n",
       "\n",
       "    .dataframe thead th {\n",
       "        text-align: right;\n",
       "    }\n",
       "</style>\n",
       "<table border=\"1\" class=\"dataframe\">\n",
       "  <thead>\n",
       "    <tr style=\"text-align: right;\">\n",
       "      <th></th>\n",
       "      <th>ID_x</th>\n",
       "      <th>Author name</th>\n",
       "      <th>ID_y</th>\n",
       "    </tr>\n",
       "  </thead>\n",
       "  <tbody>\n",
       "    <tr>\n",
       "      <td>0</td>\n",
       "      <td>1</td>\n",
       "      <td>Philip S. Yu</td>\n",
       "      <td>16696</td>\n",
       "    </tr>\n",
       "    <tr>\n",
       "      <td>1</td>\n",
       "      <td>2</td>\n",
       "      <td>Jiawei Han</td>\n",
       "      <td>19926</td>\n",
       "    </tr>\n",
       "    <tr>\n",
       "      <td>2</td>\n",
       "      <td>3</td>\n",
       "      <td>Christos Faloutsos</td>\n",
       "      <td>113755</td>\n",
       "    </tr>\n",
       "    <tr>\n",
       "      <td>3</td>\n",
       "      <td>4</td>\n",
       "      <td>Rakesh Agrawal</td>\n",
       "      <td>102514</td>\n",
       "    </tr>\n",
       "    <tr>\n",
       "      <td>4</td>\n",
       "      <td>5</td>\n",
       "      <td>H. V. Jagadish</td>\n",
       "      <td>19922</td>\n",
       "    </tr>\n",
       "    <tr>\n",
       "      <td>...</td>\n",
       "      <td>...</td>\n",
       "      <td>...</td>\n",
       "      <td>...</td>\n",
       "    </tr>\n",
       "    <tr>\n",
       "      <td>28697</td>\n",
       "      <td>28698</td>\n",
       "      <td>Ye Liu</td>\n",
       "      <td>135195</td>\n",
       "    </tr>\n",
       "    <tr>\n",
       "      <td>28698</td>\n",
       "      <td>28699</td>\n",
       "      <td>Dima Kuzmin</td>\n",
       "      <td>124251</td>\n",
       "    </tr>\n",
       "    <tr>\n",
       "      <td>28699</td>\n",
       "      <td>28700</td>\n",
       "      <td>Egidio Terra</td>\n",
       "      <td>114419</td>\n",
       "    </tr>\n",
       "    <tr>\n",
       "      <td>28700</td>\n",
       "      <td>28701</td>\n",
       "      <td>Sofia Alexaki</td>\n",
       "      <td>78119</td>\n",
       "    </tr>\n",
       "    <tr>\n",
       "      <td>28701</td>\n",
       "      <td>28702</td>\n",
       "      <td>Hans Wegener</td>\n",
       "      <td>49965</td>\n",
       "    </tr>\n",
       "  </tbody>\n",
       "</table>\n",
       "<p>28702 rows × 3 columns</p>\n",
       "</div>"
      ],
      "text/plain": [
       "        ID_x         Author name    ID_y\n",
       "0          1        Philip S. Yu   16696\n",
       "1          2          Jiawei Han   19926\n",
       "2          3  Christos Faloutsos  113755\n",
       "3          4      Rakesh Agrawal  102514\n",
       "4          5      H. V. Jagadish   19922\n",
       "...      ...                 ...     ...\n",
       "28697  28698              Ye Liu  135195\n",
       "28698  28699         Dima Kuzmin  124251\n",
       "28699  28700        Egidio Terra  114419\n",
       "28700  28701       Sofia Alexaki   78119\n",
       "28701  28702        Hans Wegener   49965\n",
       "\n",
       "[28702 rows x 3 columns]"
      ]
     },
     "execution_count": 271,
     "metadata": {},
     "output_type": "execute_result"
    }
   ],
   "source": [
    "df3"
   ]
  },
  {
   "cell_type": "code",
   "execution_count": null,
   "metadata": {},
   "outputs": [],
   "source": []
  }
 ],
 "metadata": {
  "kernelspec": {
   "display_name": "Python 3",
   "language": "python",
   "name": "python3"
  },
  "language_info": {
   "codemirror_mode": {
    "name": "ipython",
    "version": 3
   },
   "file_extension": ".py",
   "mimetype": "text/x-python",
   "name": "python",
   "nbconvert_exporter": "python",
   "pygments_lexer": "ipython3",
   "version": "3.7.4"
  }
 },
 "nbformat": 4,
 "nbformat_minor": 2
}
