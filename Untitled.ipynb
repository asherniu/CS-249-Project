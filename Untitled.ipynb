{
 "cells": [
  {
   "cell_type": "code",
   "execution_count": 1,
   "metadata": {},
   "outputs": [],
   "source": [
    "# Library imports\n",
    "import numpy as np\n",
    "import pandas as pd\n",
    "import csv"
   ]
  },
  {
   "cell_type": "code",
   "execution_count": 2,
   "metadata": {},
   "outputs": [],
   "source": [
    "# Read data from data/four_area\n",
    "author = pd.read_csv(\"data/four_area/author.txt\", sep = \"\\t\", names=[\"ID\", \"Author name\"],encoding='utf8')\n",
    "conf = pd.read_csv(\"data/four_area/conf.txt\", sep = \"\\t\", names=[\"ID\", \"Conference name\"])\n",
    "paper = pd.read_csv(\"data/four_area/paper.txt\", sep = \"\\t\", names=[\"ID\", \"Paper title\"])\n",
    "term = pd.read_csv(\"data/four_area/term.txt\", sep = \"\\t\", names=[\"ID\", \"Term\"])\n",
    "paper_author = pd.read_csv(\"data/four_area/paper_author.txt\", sep = \"\\t\", names=[\"paperID\", \"authorID\"])\n",
    "paper_conf = pd.read_csv(\"data/four_area/paper_conf.txt\", sep = \"\\t\", names=[\"paperID\", \"confID\"])\n",
    "paper_term = pd.read_csv(\"data/four_area/paper_term.txt\", sep = \"\\t\", names=[\"paperID\", \"termID\"])"
   ]
  },
  {
   "cell_type": "markdown",
   "metadata": {},
   "source": [
    "### ID in DBLP_four_area are differents from four_area. four_area's ID are rehashed.\n",
    "### Label are defined as follows\n",
    "* Database->1\n",
    "* Data Mining->2\n",
    "* Machine Learning->3\n",
    "* Information Retrieval->4"
   ]
  },
  {
   "cell_type": "code",
   "execution_count": 3,
   "metadata": {},
   "outputs": [],
   "source": [
    "# Read data from data/DBLP_four_area\n",
    "author_dict = pd.read_csv(\"data/DBLP_four_area/cleaned_author_dict.txt\", sep = \"\\t\", names=[\"ID\", \"Author name\"], encoding='utf8')\n",
    "conf_dict = pd.read_csv(\"data/DBLP_four_area/conf_dict.txt\", sep = \"\\t\", names=[\"ID\", \"Conference name\"])\n",
    "term_dict = pd.read_csv(\"data/DBLP_four_area/term_dict.txt\", sep = \"\\t\", names=[\"ID\", \"Term\"])\n",
    "author_label = pd.read_csv(\"data/DBLP_four_area/author_label.txt\", sep = \"\\t\", names=[\"authorID\", \"Label\"])\n",
    "conf_label = pd.read_csv(\"data/DBLP_four_area/conf_label.txt\", sep = \"\\t\", names=[\"confID\", \"Conference name\", \"Label\"])"
   ]
  },
  {
   "cell_type": "code",
   "execution_count": 4,
   "metadata": {},
   "outputs": [],
   "source": [
    "df = author_dict"
   ]
  },
  {
   "cell_type": "code",
   "execution_count": 5,
   "metadata": {},
   "outputs": [],
   "source": [
    "df2 = author"
   ]
  },
  {
   "cell_type": "code",
   "execution_count": 6,
   "metadata": {},
   "outputs": [],
   "source": [
    "df3 = pd.merge(df, df2, on='Author name', how='inner')"
   ]
  },
  {
   "cell_type": "code",
   "execution_count": 7,
   "metadata": {
    "scrolled": false
   },
   "outputs": [
    {
     "data": {
      "text/plain": [
       "False"
      ]
     },
     "execution_count": 7,
     "metadata": {},
     "output_type": "execute_result"
    }
   ],
   "source": [
    "df3['ID_x'].isnull().values.any()\n",
    "df3['ID_y'].isnull().values.any()"
   ]
  },
  {
   "cell_type": "code",
   "execution_count": 13,
   "metadata": {},
   "outputs": [
    {
     "data": {
      "text/html": [
       "<div>\n",
       "<style scoped>\n",
       "    .dataframe tbody tr th:only-of-type {\n",
       "        vertical-align: middle;\n",
       "    }\n",
       "\n",
       "    .dataframe tbody tr th {\n",
       "        vertical-align: top;\n",
       "    }\n",
       "\n",
       "    .dataframe thead th {\n",
       "        text-align: right;\n",
       "    }\n",
       "</style>\n",
       "<table border=\"1\" class=\"dataframe\">\n",
       "  <thead>\n",
       "    <tr style=\"text-align: right;\">\n",
       "      <th></th>\n",
       "      <th>ID_x</th>\n",
       "      <th>Author name</th>\n",
       "      <th>ID_y</th>\n",
       "    </tr>\n",
       "  </thead>\n",
       "  <tbody>\n",
       "    <tr>\n",
       "      <td>85</td>\n",
       "      <td>86</td>\n",
       "      <td>Per-Åke Larson</td>\n",
       "      <td>33480</td>\n",
       "    </tr>\n",
       "  </tbody>\n",
       "</table>\n",
       "</div>"
      ],
      "text/plain": [
       "    ID_x     Author name   ID_y\n",
       "85    86  Per-Åke Larson  33480"
      ]
     },
     "execution_count": 13,
     "metadata": {},
     "output_type": "execute_result"
    }
   ],
   "source": [
    "df3[df3['ID_x']== 86]"
   ]
  },
  {
   "cell_type": "code",
   "execution_count": null,
   "metadata": {},
   "outputs": [],
   "source": []
  }
 ],
 "metadata": {
  "kernelspec": {
   "display_name": "Python 3",
   "language": "python",
   "name": "python3"
  },
  "language_info": {
   "codemirror_mode": {
    "name": "ipython",
    "version": 3
   },
   "file_extension": ".py",
   "mimetype": "text/x-python",
   "name": "python",
   "nbconvert_exporter": "python",
   "pygments_lexer": "ipython3",
   "version": "3.7.4"
  }
 },
 "nbformat": 4,
 "nbformat_minor": 2
}
