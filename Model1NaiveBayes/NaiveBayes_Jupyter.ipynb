{
 "cells": [
  {
   "cell_type": "markdown",
   "metadata": {},
   "source": [
    "#### Library imports and data imports"
   ]
  },
  {
   "cell_type": "code",
   "execution_count": 1,
   "metadata": {},
   "outputs": [
    {
     "name": "stderr",
     "output_type": "stream",
     "text": [
      "F:\\Anaconda\\lib\\site-packages\\tqdm\\autonotebook.py:17: TqdmExperimentalWarning: Using `tqdm.autonotebook.tqdm` in notebook mode. Use `tqdm.tqdm` instead to force console mode (e.g. in jupyter console)\n",
      "  \" (e.g. in jupyter console)\", TqdmExperimentalWarning)\n"
     ]
    }
   ],
   "source": [
    "import numpy as np\n",
    "import pandas as pd\n",
    "import seaborn as sns\n",
    "from sklearn.model_selection import train_test_split \n",
    "import pickle\n",
    "from tqdm.autonotebook import tqdm\n",
    "import sklearn_crfsuite\n",
    "from sklearn_crfsuite import scorers\n",
    "from sklearn_crfsuite import metrics\n",
    "import warnings\n",
    "import seaborn as sns; sns.set()\n",
    "import matplotlib.pyplot as plt\n",
    "import networkx as nx\n",
    "from sklearn.naive_bayes import GaussianNB\n",
    "from sklearn.naive_bayes import BernoulliNB\n",
    "from networkx.generators.degree_seq import expected_degree_graph\n",
    "warnings.simplefilter(action='ignore', category=FutureWarning)"
   ]
  },
  {
   "cell_type": "code",
   "execution_count": 4,
   "metadata": {},
   "outputs": [],
   "source": [
    "author_df = pd.read_csv(\"../data/four_area/author.txt\", sep = \"\\t\", names=[\"ID\", \"Author name\"],encoding='utf8')\n",
    "conf_df = pd.read_csv(\"../data/four_area/conf.txt\", sep = \"\\t\", names=[\"ID\", \"Conference name\"])\n",
    "paper_df = pd.read_csv(\"../data/four_area/paper.txt\", sep = \"\\t\", names=[\"ID\", \"Paper title\"])\n",
    "term_df = pd.read_csv(\"../data/four_area/term.txt\", sep = \"\\t\", names=[\"ID\", \"Term\"])\n",
    "paper_author = pd.read_csv(\"../data/four_area/paper_author.txt\", sep = \"\\t\", names=[\"paperID\", \"authorID\"])\n",
    "paper_conf = pd.read_csv(\"../data/four_area/paper_conf.txt\", sep = \"\\t\", names=[\"paperID\", \"confID\"])\n",
    "paper_term = pd.read_csv(\"../data/four_area/paper_term.txt\", sep = \"\\t\", names=[\"paperID\", \"termID\"])\n",
    "author_dict = pd.read_csv(\"../data/DBLP_four_area/cleaned_author_dict.txt\", sep = \"\\t\", names=[\"ID\", \"Author name\"], encoding='utf8')\n",
    "conf_dict = pd.read_csv(\"../data/DBLP_four_area/conf_dict.txt\", sep = \"\\t\", names=[\"ID\", \"Conference name\"])\n",
    "term_dict = pd.read_csv(\"../data/DBLP_four_area/term_dict.txt\", sep = \"\\t\", names=[\"ID\", \"Term\"])\n",
    "author_label = pd.read_csv(\"../data/DBLP_four_area/author_label.txt\", sep = \"\\t\", names=[\"authorID\", \"Label\"])\n",
    "conf_label = pd.read_csv(\"../data/DBLP_four_area/conf_label.txt\", sep = \"\\t\", names=[\"confID\", \"Conference name\", \"Label\"])\n",
    "\n",
    "# Merging dataframes together\n",
    "conf_dict_m = pd.merge(conf_dict, conf_df, on='Conference name')\n",
    "author_dict_m = pd.merge(author_dict, author_df, on='Author name')\n",
    "paper_conf_m = pd.merge(conf_dict_m, paper_conf, left_on='ID_y', right_on='confID')\n",
    "paper_conf_m = paper_conf_m.drop(columns=['Conference name', 'ID_y','confID'])\n",
    "paper_label_m = pd.merge(paper_conf_m, conf_label, left_on='ID_x', right_on='confID')\n",
    "paper_label_m = paper_label_m.drop(columns=['Conference name', 'ID_x','confID'])\n",
    "author_paper_label_m = pd.merge(paper_label_m,paper_author,on='paperID')"
   ]
  },
  {
   "cell_type": "markdown",
   "metadata": {},
   "source": [
    "#### Code block to generate author_feature on the fly. We have included a pickle file to skip this step"
   ]
  },
  {
   "cell_type": "code",
   "execution_count": 5,
   "metadata": {},
   "outputs": [],
   "source": [
    "# author_feature is a dataframe, \n",
    "# with column header being 'label', row index being 'author id', \n",
    "# and cell value being the number of papers that the coresponding author has written,\n",
    "# for the corresponding labeled venue. \n",
    "# Example: Cell [1, 1] = 93, meaning author 1 has written 93 paper belonging to label 1 venues. \n",
    "\n",
    "# author_feature= pd.DataFrame(np.zeros(shape=(28702,4)),\n",
    "#                               columns=[1,2,3,4],\n",
    "#                               index=author_dict['ID'].unique()\n",
    "#                          )\n",
    "# for author in tqdm(author_paper_label_m['authorID'].unique()):\n",
    "#     author_dict_ID = int(author_dict_m[author_dict_m[\"ID_y\"] == author]['ID_x'].to_string(index=False).strip())\n",
    "#     value_count = author_paper_label_m[author_paper_label_m['authorID'] == author]['Label'].value_counts()\n",
    "#     for vc in value_count.iteritems():\n",
    "#         label = vc[0]\n",
    "#         count = vc[1]\n",
    "#         author_feature.at[author_dict_ID, label]=count"
   ]
  },
  {
   "cell_type": "code",
   "execution_count": 6,
   "metadata": {},
   "outputs": [],
   "source": [
    "# author_feature is a dataframe, \n",
    "# with column header being 'label', row index being 'author id', \n",
    "# and cell value being the number of papers that the coresponding author has written,\n",
    "# for the corresponding labeled venue. \n",
    "# Example: Cell [1, 1] = 93, meaning author 1 has written 93 paper belonging to label 1 venues.\n",
    "author_feature = pd.read_pickle('./author_feature.pickle')"
   ]
  },
  {
   "cell_type": "markdown",
   "metadata": {},
   "source": [
    "#### Code block to generate author_features on the fly. We have included a pickle file to skip this step.\n",
    "#### author_features is different from author_feature. It filtered out all non-labeled data, and included the actual features we need to train on. We will be only using author_features for the rest of the codes."
   ]
  },
  {
   "cell_type": "code",
   "execution_count": 7,
   "metadata": {},
   "outputs": [],
   "source": [
    "# author_features = author_feature.loc[author_label['authorID'],:]\n",
    "# author_sum = np.sum(author_feature, axis = 1)\n",
    "# author_features['sum'] = author_sum\n",
    "# author_features['lgt_median'] = author_sum > 2\n",
    "# author_features['lgt_mean'] = author_sum > 5\n",
    "# author_features['DB_lgt_0'] = author_features[1]  > 0\n",
    "# author_features['DM_lgt_0'] = author_features[2]  > 0\n",
    "# author_features['ML_lgt_0'] = author_features[3]  > 0\n",
    "# author_features['IR_lgt_0'] = author_features[4]  > 0\n",
    "\n",
    "# author_features['DB_lgt_0.25'] = author_features[1] / author_features['sum'] > 0.25\n",
    "# author_features['DM_lgt_0.25'] = author_features[2] / author_features['sum'] > 0.25\n",
    "# author_features['ML_lgt_0.25'] = author_features[3] / author_features['sum'] > 0.25\n",
    "# author_features['IR_lgt_0.25'] = author_features[4] / author_features['sum'] > 0.25\n",
    "\n",
    "# author_features['co_1'] = 0\n",
    "# author_features['co_2'] = 0    \n",
    "# author_features['co_3'] = 0    \n",
    "# author_features['co_4'] = 0    \n",
    "\n",
    "# for index, row in tqdm(author_features.iterrows()):\n",
    "#     adid = index\n",
    "#     aid = int(author_dict_m[author_dict_m[\"ID_x\"] == adid]['ID_y'].to_string(index=False).strip())\n",
    "#     all_paper = paper_author[paper_author['authorID'] == aid]['paperID']\n",
    "#     coauthor = []\n",
    "#     for paper in all_paper:\n",
    "#         authors = paper_author[paper_author['paperID'] == paper]['authorID']\n",
    "#         authors = authors[authors != aid]\n",
    "#         coauthor = np.concatenate((coauthor, authors))\n",
    "#     coauthor = np.unique(coauthor)\n",
    "#     coauthor_hashed = author_dict_m[author_dict_m['ID_y'].isin(coauthor)]['ID_x']\n",
    "#     vc = author_label[author_label['authorID'].isin(coauthor_hashed)]['Label'].value_counts()\n",
    "#     author_features.loc[adid, 'co_1']  += vc[1] if 1 in vc.index else 0\n",
    "#     author_features.loc[adid, 'co_2']  += vc[2] if 2 in vc.index else 0    \n",
    "#     author_features.loc[adid, 'co_3']  += vc[3] if 3 in vc.index else 0    \n",
    "#     author_features.loc[adid, 'co_4']  += vc[4] if 4 in vc.index else 0    \n",
    "    \n",
    "# author_features['DB_co'] = author_features['co_1'] > 0\n",
    "# author_features['DM_co'] = author_features['co_2'] > 0    \n",
    "# author_features['ML_co'] = author_features['co_3'] > 0    \n",
    "# author_features['IR_co'] = author_features['co_4'] > 0   \n",
    "\n",
    "# author_features = pd.merge(author_features, author_label, left_index = True, right_on='authorID')"
   ]
  },
  {
   "cell_type": "code",
   "execution_count": 8,
   "metadata": {},
   "outputs": [],
   "source": [
    "author_features = pd.read_pickle('./author_features.pickle')"
   ]
  },
  {
   "cell_type": "markdown",
   "metadata": {},
   "source": [
    "### Variables of the MRF: \n",
    "1. (Number of papers by the author) > 2 (median)\n",
    "2. (Number of papers by the author) > 5 (mean)\n",
    "3. Percentage of DB paper > 0.25\n",
    "4. Percentage of DM paper > 0.25\n",
    "5. Percentage of ML paper > 0.25\n",
    "6. Percentage of IR paper > 0.25\n",
    "7. Co-authored with known DB authors \n",
    "8. Co-authored with known DM authors\n",
    "9. Co-authored with known ML authors\n",
    "10. Co-authored with known IR authors\n"
   ]
  },
  {
   "cell_type": "code",
   "execution_count": 9,
   "metadata": {},
   "outputs": [],
   "source": [
    "acc=[]"
   ]
  },
  {
   "cell_type": "code",
   "execution_count": 10,
   "metadata": {},
   "outputs": [],
   "source": [
    "for size in [0.01,0.02,0.03,0.04,0.05,0.1,0.2,0.3,0.4,0.5,0.6,0.7]:\n",
    "    X = author_features[['lgt_median', 'lgt_mean', 'DB_lgt_0', 'DM_lgt_0', 'ML_lgt_0', 'IR_lgt_0',\n",
    "                    'DB_lgt_0.25', 'DM_lgt_0.25', 'ML_lgt_0.25', 'IR_lgt_0.25', \n",
    "                    'DB_co', 'DM_co', 'ML_co', 'IR_co']].to_numpy()\n",
    "    y = author_features[['Label']].to_numpy()\n",
    "    X_train, X_test, y_train, y_test = train_test_split(X, y, test_size=1-size, random_state=42)\n",
    "    bnb = BernoulliNB()\n",
    "    y_pred = bnb.fit(X_train, y_train.ravel()).predict(X_test)\n",
    "    score = 0\n",
    "    for i in range(len(y_test)):\n",
    "        score += (y_test[i] == y_pred[i])\n",
    "    \n",
    "    acc.append( score[0] / X_test.shape[0])"
   ]
  },
  {
   "cell_type": "code",
   "execution_count": 21,
   "metadata": {},
   "outputs": [
    {
     "name": "stdout",
     "output_type": "stream",
     "text": [
      "[0.9148783977110158, 0.9282273603082851, 0.929423217327817, 0.9269731989181215, 0.9294409937888198, 0.930763178599528, 0.9280023605783417, 0.9288604180714768, 0.9284028324154209, 0.9225684608120869, 0.9227138643067847, 0.9150275373721479]\n"
     ]
    }
   ],
   "source": [
    "print (acc)"
   ]
  },
  {
   "cell_type": "code",
   "execution_count": 12,
   "metadata": {},
   "outputs": [
    {
     "data": {
      "text/plain": [
       "Text(0, 0.5, 'Accuracy')"
      ]
     },
     "execution_count": 12,
     "metadata": {},
     "output_type": "execute_result"
    },
    {
     "data": {
      "image/png": "[encoded data removed]",
      "text/plain": [
       "<Figure size 432x288 with 1 Axes>"
      ]
     },
     "metadata": {
      "needs_background": "light"
     },
     "output_type": "display_data"
    }
   ],
   "source": [
    "plt.plot([0.01,0.02,0.03,0.04,0.05,0.1,0.2,0.3,0.4,0.5,0.6,0.7],acc,'r-')\n",
    "plt.xlabel('Training size')\n",
    "plt.ylabel('Accuracy')"
   ]
  },
  {
   "cell_type": "code",
   "execution_count": 13,
   "metadata": {},
   "outputs": [],
   "source": [
    "acc1 = acc[2:]"
   ]
  },
  {
   "cell_type": "code",
   "execution_count": 14,
   "metadata": {},
   "outputs": [],
   "source": [
    "acc2 = [0.9338, 0.9187, 0.9172, 0.93341, 0.9338, 0.9289, 0.9392, 0.9088, 0.9178,0.9358]"
   ]
  },
  {
   "cell_type": "code",
   "execution_count": 15,
   "metadata": {},
   "outputs": [],
   "source": [
    "acc3 = [0.9135, 0.9154, 0.9142, 0.922, 0.9296, 0.9326, 0.9462, 0.9506, 0.9623, 0.9749]"
   ]
  },
  {
   "cell_type": "code",
   "execution_count": 16,
   "metadata": {},
   "outputs": [],
   "source": [
    "label = [0.03,0.04,0.05,0.1,0.2,0.3,0.4,0.5,0.6,0.7]"
   ]
  },
  {
   "cell_type": "code",
   "execution_count": 17,
   "metadata": {},
   "outputs": [
    {
     "data": {
      "text/plain": [
       "array([[0.03      , 0.92942322, 0.9338    , 0.9135    ],\n",
       "       [0.04      , 0.9269732 , 0.9187    , 0.9154    ],\n",
       "       [0.05      , 0.92944099, 0.9172    , 0.9142    ],\n",
       "       [0.1       , 0.93076318, 0.93341   , 0.922     ],\n",
       "       [0.2       , 0.92800236, 0.9338    , 0.9296    ],\n",
       "       [0.3       , 0.92886042, 0.9289    , 0.9326    ],\n",
       "       [0.4       , 0.92840283, 0.9392    , 0.9462    ],\n",
       "       [0.5       , 0.92256846, 0.9088    , 0.9506    ],\n",
       "       [0.6       , 0.92271386, 0.9178    , 0.9623    ],\n",
       "       [0.7       , 0.91502754, 0.9358    , 0.9749    ]])"
      ]
     },
     "execution_count": 17,
     "metadata": {},
     "output_type": "execute_result"
    }
   ],
   "source": [
    "np.array([label, acc1, acc2, acc3]).T"
   ]
  },
  {
   "cell_type": "code",
   "execution_count": 18,
   "metadata": {},
   "outputs": [],
   "source": [
    "df = pd.DataFrame(np.array([label, acc1, acc2, acc3]).T,\n",
    "                   columns=['Trainset Portion','Accuracy for Model 1', 'Accuracy for Model 2', 'Accuracy for Model 3'])"
   ]
  },
  {
   "cell_type": "code",
   "execution_count": 19,
   "metadata": {},
   "outputs": [],
   "source": [
    "df2 = pd.melt(df, id_vars=\"Trainset Portion\", var_name=\"Model\", value_name=\"Accuracy\")"
   ]
  },
  {
   "cell_type": "code",
   "execution_count": 20,
   "metadata": {},
   "outputs": [
    {
     "data": {
      "image/png": "[encoded data removed]",
      "text/plain": [
       "<Figure size 864x720 with 1 Axes>"
      ]
     },
     "metadata": {
      "needs_background": "light"
     },
     "output_type": "display_data"
    },
    {
     "data": {
      "image/png": "[encoded data removed]",
      "text/plain": [
       "<Figure size 503.225x360 with 1 Axes>"
      ]
     },
     "metadata": {},
     "output_type": "display_data"
    }
   ],
   "source": [
    "fig, ax = plt.subplots(figsize=(12,10))\n",
    "plt.ylim(0.88, 1)\n",
    "sns.set_style(\"whitegrid\")\n",
    "sns.catplot(ax = ax, x='Trainset Portion', y='Accuracy', hue='Model',  data=df2, kind='bar')\n",
    "plt.show()"
   ]
  }
 ],
 "metadata": {
  "kernelspec": {
   "display_name": "Python 3",
   "language": "python",
   "name": "python3"
  }
 },
 "nbformat": 4,
 "nbformat_minor": 2
}
